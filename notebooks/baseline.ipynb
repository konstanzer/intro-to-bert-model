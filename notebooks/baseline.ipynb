{
 "cells": [
  {
   "cell_type": "code",
   "execution_count": null,
   "id": "comfortable-visiting",
   "metadata": {},
   "outputs": [],
   "source": [
    "import pandas as pd\n",
    "from sklearn.model_selection import train_test_split\n",
    "from sklearn.linear_model import LogisticRegression\n",
    "from sklearn.preprocessing import StandardScaler\n",
    "from sklearn.feature_extraction.text import TfidfVectorizer\n",
    "from sklearn.metrics import plot_confusion_matrix\n",
    "import numpy as np\n",
    "import seaborn as sns\n",
    "import matplotlib.pyplot as plt"
   ]
  },
  {
   "cell_type": "code",
   "execution_count": null,
   "id": "alert-israel",
   "metadata": {},
   "outputs": [],
   "source": [
    "df = pd.read_csv('IMDB_Dataset.csv')\n",
    "df['label'] = (df['sentiment']=='positive').astype(int)\n",
    "df.rename({'review': 'text'}, axis=1, inplace=True)\n",
    "df.drop('sentiment', axis=1, inplace=True)"
   ]
  },
  {
   "cell_type": "code",
   "execution_count": null,
   "id": "burning-unknown",
   "metadata": {
    "tags": []
   },
   "outputs": [],
   "source": [
    "df_train, df_valid = train_test_split(df, test_size=0.2)\n",
    "df.head()"
   ]
  },
  {
   "cell_type": "code",
   "execution_count": null,
   "id": "affected-addition",
   "metadata": {},
   "outputs": [],
   "source": [
    "train_texts = []\n",
    "for t in df_train['text']:\n",
    "  train_texts.append(t)\n",
    "\n",
    "test_texts = []\n",
    "for t in df_valid['text']:\n",
    "  test_texts.append(t)\n",
    "\n",
    "train_labels = []\n",
    "for t in df_train['label']:\n",
    "  train_labels.append(t)\n",
    "\n",
    "test_labels = []\n",
    "for t in df_valid['label']:\n",
    "  test_labels.append(t)"
   ]
  },
  {
   "cell_type": "code",
   "execution_count": null,
   "id": "beneficial-bulletin",
   "metadata": {},
   "outputs": [],
   "source": [
    "mindf = .04\n",
    "maxdf = .7\n",
    "X_train = train_texts\n",
    "vectorizer = TfidfVectorizer(min_df=mindf, max_df=maxdf, stop_words=\"english\")\n",
    "X_train = vectorizer.fit_transform(X_train)\n",
    "X_train = StandardScaler().fit_transform(X_train.todense())"
   ]
  },
  {
   "cell_type": "code",
   "execution_count": null,
   "id": "naughty-belly",
   "metadata": {},
   "outputs": [],
   "source": [
    "y_train = train_labels\n",
    "lr = LogisticRegression().fit(X_train, y_train)"
   ]
  },
  {
   "cell_type": "code",
   "execution_count": null,
   "id": "awful-brief",
   "metadata": {
    "tags": []
   },
   "outputs": [],
   "source": [
    "X_test = test_texts\n",
    "vectorizer = TfidfVectorizer(min_df=mindf, max_df=maxdf, stop_words=\"english\", max_features=len(lr.coef_[0]))\n",
    "X_test = vectorizer.fit_transform(X_test)\n",
    "X_test = StandardScaler().fit_transform(X_test.todense())X_test.shape, X_train.shape"
   ]
  },
  {
   "cell_type": "code",
   "execution_count": null,
   "id": "naval-dancing",
   "metadata": {},
   "outputs": [],
   "source": [
    "X_test = vectorizer.fit_transform(df_valid['text'])\n",
    "X_test = StandardScaler().fit_transform(X_test.todense())\n",
    "y_test = df_valid['text']\n",
    "#stops complaint about different features\n",
    "#X_test = np.pad(X_test, (0, X_train.shape[1]-X_test.shape[1]))"
   ]
  },
  {
   "cell_type": "code",
   "execution_count": null,
   "id": "ordered-leave",
   "metadata": {},
   "outputs": [],
   "source": [
    "len(lr.coef_[0])"
   ]
  },
  {
   "cell_type": "code",
   "execution_count": null,
   "id": "twenty-prairie",
   "metadata": {},
   "outputs": [],
   "source": [
    "X_test.shape, X_train.shape"
   ]
  },
  {
   "cell_type": "code",
   "execution_count": null,
   "id": "backed-pattern",
   "metadata": {},
   "outputs": [],
   "source": [
    "y_test = test_labels\n",
    "subsample = 5000\n",
    "plot_confusion_matrix(lr, X_test[:subsample], y_test[:subsample], values_format=\"\")"
   ]
  },
  {
   "cell_type": "code",
   "execution_count": null,
   "id": "beneficial-preparation",
   "metadata": {},
   "outputs": [],
   "source": [
    "#base filled in values\n",
    "con_mat_df = pd.DataFrame(np.array([[1682, 836],\n",
    "                                    [809, 1673]]),\n",
    "                               columns=[\"negative\", \"positive\"],\n",
    "                               index=[\"negative\", \"positive\"])\n",
    "f,ax = plt.subplots(figsize=(5, 3))\n",
    "sns.heatmap(con_mat_df, annot=True, vmax=2200, vmin=200, cmap=plt.cm.Blues,fmt='g')\n",
    "plt.tight_layout()\n",
    "ax.set_title('Logistic TFIDF model', fontsize=16)\n",
    "ax.set_xlabel('Predicted', fontsize=14)\n",
    "ax.set_ylabel('True', fontsize=14)\n",
    "plt.show()"
   ]
  },
  {
   "cell_type": "code",
   "execution_count": null,
   "id": "younger-address",
   "metadata": {},
   "outputs": [],
   "source": [
    "(1682+1673) / 5000"
   ]
  },
  {
   "cell_type": "code",
   "execution_count": null,
   "id": "cooperative-revolution",
   "metadata": {},
   "outputs": [],
   "source": [
    "#first run\n",
    "con_mat_df = pd.DataFrame(np.array([[2266, 277],\n",
    "                                    [272, 2185]]),\n",
    "                               columns=[\"negative\", \"positive\"],\n",
    "                               index=[\"negative\", \"positive\"])\n",
    "f,ax = plt.subplots(figsize=(5, 3))\n",
    "sns.heatmap(con_mat_df, annot=True, vmax=2200, vmin=200, cmap=plt.cm.Blues,fmt='g')\n",
    "plt.tight_layout()\n",
    "ax.set_title('BERT-base model', fontsize=16)\n",
    "ax.set_xlabel('Predicted', fontsize=14)\n",
    "ax.set_ylabel('True', fontsize=14)\n",
    "plt.show()"
   ]
  },
  {
   "cell_type": "code",
   "execution_count": null,
   "id": "protected-science",
   "metadata": {},
   "outputs": [],
   "source": []
  }
 ],
 "metadata": {
  "kernelspec": {
   "display_name": "Python 3",
   "language": "python",
   "name": "python3"
  },
  "language_info": {
   "codemirror_mode": {
    "name": "ipython",
    "version": 3
   },
   "file_extension": ".py",
   "mimetype": "text/x-python",
   "name": "python",
   "nbconvert_exporter": "python",
   "pygments_lexer": "ipython3",
   "version": "3.8.5"
  }
 },
 "nbformat": 4,
 "nbformat_minor": 5
}
